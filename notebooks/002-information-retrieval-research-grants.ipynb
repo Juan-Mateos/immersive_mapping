{
 "cells": [
  {
   "cell_type": "code",
   "execution_count": 1,
   "metadata": {
    "collapsed": true
   },
   "outputs": [],
   "source": [
    "import re\n",
    "import os\n",
    "import sys\n",
    "import pickle\n",
    "import gensim\n",
    "import pandas as pd\n",
    "import numpy as np\n",
    "import matplotlib.pyplot as plt\n",
    "\n",
    "import sklearn\n",
    "from sklearn.feature_extraction.text import TfidfVectorizer\n",
    "from sklearn.neighbors import KDTree\n",
    "from collections import Counter\n",
    "\n",
    "sys.path.append('../src/')\n",
    "from text_preprocessing import *\n",
    "%matplotlib inline"
   ]
  },
  {
   "cell_type": "code",
   "execution_count": 2,
   "metadata": {
    "collapsed": true
   },
   "outputs": [],
   "source": [
    "def flatten_lists(lst):\n",
    "    \"\"\"Remove nested lists.\"\"\"\n",
    "    return [item for sublist in lst for item in sublist]\n",
    "\n",
    "def tagged_documents(documents, labels):\n",
    "    \"\"\"Tag preprocessed document with its name.\n",
    "\n",
    "    Args:\n",
    "        documents (list, str): Nested lists with preprocessed tokens.\n",
    "        labels (list, str): The tag for each nested list.\n",
    "\n",
    "    Return:\n",
    "        TaggedDocument object of the form (words=[tokens], tag=[label]).\n",
    "\n",
    "    \"\"\"\n",
    "\n",
    "    return [gensim.models.doc2vec.TaggedDocument(documents[i], [labels[i]]) for i in range(len(labels))]\n",
    "\n",
    "def bigrams(documents):\n",
    "    \"\"\"Create bigrams using Gensim's phrases.\"\"\"\n",
    "    phrases = gensim.models.Phrases(documents)\n",
    "    bigram = gensim.models.phrases.Phraser(phrases)\n",
    "    return list(bigram[documents])"
   ]
  },
  {
   "cell_type": "markdown",
   "metadata": {},
   "source": [
    "## Text Preprocessing\n",
    "\n",
    "Preprocessing the project abstracts:\n",
    "\n",
    "1. Remove stopwords and punctuation\n",
    "2. Find bigrams\n",
    "3. Create tuples of preprocessed documents and project titles for doc2vec"
   ]
  },
  {
   "cell_type": "code",
   "execution_count": 3,
   "metadata": {
    "collapsed": false
   },
   "outputs": [
    {
     "name": "stderr",
     "output_type": "stream",
     "text": [
      "/Users/kstathou/anaconda/envs/nesta/lib/python3.5/site-packages/IPython/core/interactiveshell.py:2717: DtypeWarning: Columns (2,4,9) have mixed types. Specify dtype option on import or set low_memory=False.\n",
      "  interactivity=interactivity, compiler=compiler, result=result)\n"
     ]
    }
   ],
   "source": [
    "df = pd.read_csv('../data/interim/research_grants.csv')"
   ]
  },
  {
   "cell_type": "code",
   "execution_count": 4,
   "metadata": {
    "collapsed": false
   },
   "outputs": [
    {
     "data": {
      "text/html": [
       "<div>\n",
       "<style>\n",
       "    .dataframe thead tr:only-child th {\n",
       "        text-align: right;\n",
       "    }\n",
       "\n",
       "    .dataframe thead th {\n",
       "        text-align: left;\n",
       "    }\n",
       "\n",
       "    .dataframe tbody tr th {\n",
       "        vertical-align: top;\n",
       "    }\n",
       "</style>\n",
       "<table border=\"1\" class=\"dataframe\">\n",
       "  <thead>\n",
       "    <tr style=\"text-align: right;\">\n",
       "      <th></th>\n",
       "      <th>Unnamed: 0</th>\n",
       "      <th>Grant Offered (£)</th>\n",
       "      <th>LAD13NM</th>\n",
       "      <th>Participant Name</th>\n",
       "      <th>Postcode</th>\n",
       "      <th>Project Start Date</th>\n",
       "      <th>Project Title</th>\n",
       "      <th>Public Description</th>\n",
       "      <th>dataset_id</th>\n",
       "      <th>project_id</th>\n",
       "    </tr>\n",
       "  </thead>\n",
       "  <tbody>\n",
       "    <tr>\n",
       "      <th>0</th>\n",
       "      <td>0</td>\n",
       "      <td>101720</td>\n",
       "      <td>Coventry</td>\n",
       "      <td>University of Warwick</td>\n",
       "      <td>NaN</td>\n",
       "      <td>2010</td>\n",
       "      <td>Random Fields of Gradients</td>\n",
       "      <td>Random fields of gradients are a class of mode...</td>\n",
       "      <td>gtr</td>\n",
       "      <td>http://gtr.rcuk.ac.uk:80/gtr/api/projects/B391...</td>\n",
       "    </tr>\n",
       "  </tbody>\n",
       "</table>\n",
       "</div>"
      ],
      "text/plain": [
       "   Unnamed: 0 Grant Offered (£)   LAD13NM       Participant Name Postcode  \\\n",
       "0           0            101720  Coventry  University of Warwick      NaN   \n",
       "\n",
       "  Project Start Date               Project Title  \\\n",
       "0               2010  Random Fields of Gradients   \n",
       "\n",
       "                                  Public Description dataset_id  \\\n",
       "0  Random fields of gradients are a class of mode...        gtr   \n",
       "\n",
       "                                          project_id  \n",
       "0  http://gtr.rcuk.ac.uk:80/gtr/api/projects/B391...  "
      ]
     },
     "execution_count": 4,
     "metadata": {},
     "output_type": "execute_result"
    }
   ],
   "source": [
    "df.head(1)"
   ]
  },
  {
   "cell_type": "code",
   "execution_count": 5,
   "metadata": {
    "collapsed": true
   },
   "outputs": [],
   "source": [
    "nlproc = TextPreprocessing()"
   ]
  },
  {
   "cell_type": "code",
   "execution_count": 6,
   "metadata": {
    "collapsed": false
   },
   "outputs": [
    {
     "name": "stdout",
     "output_type": "stream",
     "text": [
      "CPU times: user 2min 55s, sys: 1.26 s, total: 2min 57s\n",
      "Wall time: 2min 57s\n"
     ]
    }
   ],
   "source": [
    "%%time\n",
    "documents = [flatten_lists(nlproc.tokenize_document(doc)) for doc in list(df['Public Description'])]"
   ]
  },
  {
   "cell_type": "code",
   "execution_count": 7,
   "metadata": {
    "collapsed": true
   },
   "outputs": [],
   "source": [
    "# Find bigrams\n",
    "docs = bigrams(documents)\n",
    "project_titles = list(df['Project Title'])"
   ]
  },
  {
   "cell_type": "markdown",
   "metadata": {},
   "source": [
    "## Training word2vec, doc2vec\n",
    "\n",
    "Word2vec is used to expand the list of query words with other that are semantically similar. Doc2vec is used to transform the documents to vectors and then split the high dimensional space with KD Tree."
   ]
  },
  {
   "cell_type": "code",
   "execution_count": 8,
   "metadata": {
    "collapsed": false
   },
   "outputs": [
    {
     "name": "stdout",
     "output_type": "stream",
     "text": [
      "CPU times: user 19min 18s, sys: 7.19 s, total: 19min 25s\n",
      "Wall time: 6min 39s\n"
     ]
    }
   ],
   "source": [
    "%%time\n",
    "w2v = gensim.models.Word2Vec(docs, size=350, window=10, min_count=2, iter=20)"
   ]
  },
  {
   "cell_type": "code",
   "execution_count": 10,
   "metadata": {
    "collapsed": true
   },
   "outputs": [],
   "source": [
    "# w2v.save('../models/w2v_main.word2vec')"
   ]
  },
  {
   "cell_type": "code",
   "execution_count": 15,
   "metadata": {
    "collapsed": false
   },
   "outputs": [
    {
     "data": {
      "text/plain": [
       "[('artificial_intelligence', 0.6850327253341675),\n",
       " ('deep_learning', 0.677425742149353),\n",
       " ('data_mining', 0.620207667350769),\n",
       " ('computer_vision', 0.6097780466079712),\n",
       " ('machine-learning', 0.577206015586853),\n",
       " ('data_analytics', 0.5466424226760864),\n",
       " ('algorithms', 0.5164541006088257),\n",
       " ('pattern_matching', 0.5130344033241272),\n",
       " ('discriminative', 0.5085511803627014),\n",
       " ('pattern_recognition', 0.5077463984489441)]"
      ]
     },
     "execution_count": 15,
     "metadata": {},
     "output_type": "execute_result"
    }
   ],
   "source": [
    "w2v.most_similar('machine_learning')"
   ]
  },
  {
   "cell_type": "code",
   "execution_count": 11,
   "metadata": {
    "collapsed": true
   },
   "outputs": [],
   "source": [
    "# create Tagged Documents (Gensim object) that will be used as input for the doc2vec\n",
    "tagged_tags = tagged_documents(documents=docs, labels=project_titles)"
   ]
  },
  {
   "cell_type": "code",
   "execution_count": 12,
   "metadata": {
    "collapsed": false
   },
   "outputs": [
    {
     "name": "stdout",
     "output_type": "stream",
     "text": [
      "CPU times: user 7h 47min 47s, sys: 1min 18s, total: 7h 49min 6s\n",
      "Wall time: 2h 36min 54s\n"
     ]
    }
   ],
   "source": [
    "%%time\n",
    "d2v = gensim.models.doc2vec.Doc2Vec(documents=tagged_tags, size=350, min_count=2, \n",
    "                                    window=30, iter=30, dbow_words=1, dm=0)"
   ]
  },
  {
   "cell_type": "code",
   "execution_count": 16,
   "metadata": {
    "collapsed": true
   },
   "outputs": [],
   "source": [
    "# d2v.save('../models/d2v_main.doc2vec')"
   ]
  },
  {
   "cell_type": "code",
   "execution_count": 13,
   "metadata": {
    "collapsed": true
   },
   "outputs": [],
   "source": [
    "# with open('../data/interim/project_documents_main.pickle', 'wb') as h:\n",
    "#     pickle.dump(docs, h)"
   ]
  },
  {
   "cell_type": "code",
   "execution_count": 4,
   "metadata": {
    "collapsed": true
   },
   "outputs": [],
   "source": [
    "# with open('../data/interim/project_documents_main.pickle', 'rb') as h:\n",
    "#     project_documents = pickle.load(h)"
   ]
  },
  {
   "cell_type": "code",
   "execution_count": 107,
   "metadata": {
    "collapsed": false
   },
   "outputs": [],
   "source": [
    "class Tfidf():\n",
    "    \"\"\"Base class that calculates the TF-IDF weighting of text.\"\"\"\n",
    "    def __init__(self, docs):\n",
    "        \"\"\"Args:\n",
    "            documents (list, str): Nested lists with preprocessed tokens. Example: [['foo', 'bar'], ['alpha', 'beta']]\n",
    "\n",
    "        \"\"\"\n",
    "        self.documents = docs\n",
    "\n",
    "    def tfidf_transformer(self):\n",
    "        \"\"\"Calculates the TF-IDF of preprocessed text.\"\"\"\n",
    "        tfidf = TfidfVectorizer(tokenizer=lambda x:x, lowercase=False)\n",
    "        X = tfidf.fit_transform(self.documents)\n",
    "        feature_names = tfidf.get_feature_names()\n",
    "        return tfidf, X, feature_names\n",
    "\n",
    "class WordQueries(Tfidf):\n",
    "    \"\"\"Find the words to query the InnovateUK data with. Inherits from Tfidf class.\"\"\"\n",
    "    def __init__(self, word2vec, docs):\n",
    "        \"\"\"Args:\n",
    "            w2v (word2vec): Pretrained word vectors.\n",
    "            tfidf (sparse matrix): Sparse matrix of the form (Document x Words) with the TF-IDF weights as values.\n",
    "\n",
    "        \"\"\"\n",
    "        super().__init__(docs)\n",
    "        self.w2v = word2vec\n",
    "        self.tfidf, _, _ = self.tfidf_transformer()\n",
    "\n",
    "    def similar_tokens(self, word):\n",
    "        \"\"\"Find the most similar words using a pretrained word2vec model.\n",
    "\n",
    "        Args:\n",
    "            word (str): Query word.\n",
    "\n",
    "        Returns:\n",
    "            words (set, str): Top 20 most similar to the input words. Similarity is given by word2vec. The input term is also added to the set.\n",
    "\n",
    "        \"\"\"\n",
    "        # Add the query word directly into the list because it will not be in the similar ones.\n",
    "        words = [word]\n",
    "#         for token in [tup[0] for tup in self.w2v.most_similar([word], topn=20)]:\n",
    "#             words.extend([tup[0] for tup in self.w2v.most_similar([token], topn=25) if tup[1] > 0.55])\n",
    "\n",
    "        words.extend([tup[0] for tup in self.w2v.most_similar([word], topn=20)])\n",
    "        return set(words)\n",
    "\n",
    "    def word2ids(self, tokens):\n",
    "        \"\"\"Find the TF-IDF IDs of tokens. \n",
    "\n",
    "        Args:\n",
    "            tokens (set, str): Unique, preprocessed tokens.\n",
    "\n",
    "        Returns:\n",
    "            token_ids(list, int): Token IDs of the TF-IDF dictionary.\n",
    "\n",
    "        \"\"\"\n",
    "        token_ids = []\n",
    "        for token in set(tokens):\n",
    "            try:\n",
    "                token_ids.append(self.tfidf.vocabulary_[token])\n",
    "            except Exception as e:\n",
    "                continue\n",
    "        return token_ids\n",
    "\n",
    "    def high_idf_ids(self, token_ids):\n",
    "        \"\"\"Filter out tokens with extreme TF-IDF weights (both rare terms and common ones).\n",
    "\n",
    "        Args:\n",
    "            token_ids: (list, int): Token IDs of the TF-IDF dictionary.\n",
    "\n",
    "        Returns:\n",
    "            ids: (list, int): Token IDs of the TF-IDF dictionary.\n",
    "\n",
    "        \"\"\"\n",
    "        idfs = {token_id:self.tfidf.idf_[token_id] for token_id in token_ids}\n",
    "        ids = [k for k, v in idfs.items() if v >= np.percentile([val for val in idfs.values()], [35])[0]\n",
    "        and v < np.percentile([val for val in idfs.values()], [95])[0]]\n",
    "        return ids\n",
    "\n",
    "    def tfidf_id2word(self, id_):\n",
    "        \"\"\"Find a token using its TF-IDF ID.\n",
    "\n",
    "        Args:\n",
    "            id_ (int): TF-IDF id of a token.\n",
    "\n",
    "        Returns:\n",
    "            Token (str) that corresponds to the TF-IDF id.\n",
    "\n",
    "        \"\"\"\n",
    "        return list(self.tfidf.vocabulary_.keys())[list(self.tfidf.vocabulary_.values()).index(id_)]\n",
    "\n",
    "    def query_word(self, word):\n",
    "        \"\"\"Wrapper function around the WordQueries class.\n",
    "\n",
    "        Args:\n",
    "            word (str): Token to query the engine with.\n",
    "\n",
    "        Returns:\n",
    "            queries (set, str): Unique tokens that are similar to the queried word and do not belong into the extremes.\n",
    "\n",
    "        \"\"\"\n",
    "        sim_tokens = self.similar_tokens(word)\n",
    "        token_ids = self.word2ids(sim_tokens)\n",
    "        high_ids = self.high_idf_ids(token_ids)\n",
    "        queries = [self.tfidf_id2word(id_) for id_ in high_ids]\n",
    "        queries.append(word)\n",
    "        return set(queries)\n",
    "\n",
    "class GtrSearch(WordQueries):\n",
    "    \"\"\"Search the InnovateUK dataset using a term and retrieve projects that are relevant to it. \n",
    "\n",
    "    TODO: \n",
    "    * Change class name.\n",
    "    * It now returns unique projects, we should maybe expand it a bit more. Check how this messes up the pretrained paragraph vectors.\n",
    "    * Change the names of the composed classes from feature, feature2 to something else.\n",
    "\n",
    "    \"\"\"\n",
    "    def __init__(self, dataframe, documents, word2vec):\n",
    "        \"\"\"Args:\n",
    "            feature: Instance of the Tfidf class.\n",
    "            feature2: Instance of the WordQueries class.\n",
    "            df: Pandas dataframe that contains the InnovateUK data.\n",
    "\n",
    "        \"\"\"\n",
    "        self.feature = Tfidf(documents)\n",
    "        self.feature2 = WordQueries(word2vec, documents)\n",
    "        self.df = dataframe\n",
    "        self.kdt = KDTree(self.df['paragraph vectors'].tolist(), leaf_size=3)\n",
    "\n",
    "    def query_kdt(self, query, num_results):\n",
    "        \"\"\"Create a KDTree using the pretrained paragraph vectors and query it with a project title.\n",
    "\n",
    "        Args:\n",
    "            query (str): Project title from the InnovateUK dataset.\n",
    "\n",
    "        Returns:\n",
    "            dist (array, float): Euclidean distance between the query term and the results.\n",
    "            idx (array, int): Index of the results, ordered by their distance to the query (ascending order).\n",
    "\n",
    "        \"\"\"\n",
    "        \n",
    "        return self.kdt.query(self.df['paragraph vectors'][self.df['Project Title'] == query].tolist(), k=num_results)\n",
    "\n",
    "    def relevant_doc_ids(self, idx, keywords):\n",
    "        \"\"\"Find the relevant documents IDs based on their intersection with the query words.\n",
    "\n",
    "        Args:\n",
    "            idx (array, int): Index of relevant paragraph vectors, ordered by their distance to the query (ascending order).\n",
    "            keywords (set, str): Query terms.\n",
    "\n",
    "        Returns:\n",
    "            List of document indexes (int) that have at least one word the same with the query terms.\n",
    "\n",
    "        \"\"\"\n",
    "        return [id_ for id_ in idx[0] if len(keywords.intersection(self.feature.documents[id_])) >= 1]\n",
    "    \n",
    "    def search_queries(self, word):\n",
    "        \"\"\"Wrapper function around the GtrSearch class.\n",
    "\n",
    "        Args:\n",
    "            word (str): Query term to search the dataset with.\n",
    "\n",
    "        Returns:\n",
    "            Subset of the dataframe with unique projects that are relevant to the query term.\n",
    "\n",
    "        \"\"\"\n",
    "        m = self.feature2.query_word(word)\n",
    "\n",
    "        print(m)\n",
    "        inter = {i:len(m.intersection(doc)) for i, doc in enumerate(self.feature.documents)}\n",
    "        c = [v for k,v in inter.items()]\n",
    "        max_id = list(inter.keys())[list(inter.values()).index(max(c))]\n",
    "        \n",
    "        dist, idx = self.query_kdt(query=self.df.iloc[max_id, 6], num_results=self.df.shape[0])\n",
    "        \n",
    "        idx = self.relevant_doc_ids(idx, m)\n",
    "        \n",
    "        return self.df.iloc[idx, :]"
   ]
  },
  {
   "cell_type": "code",
   "execution_count": 13,
   "metadata": {
    "collapsed": true
   },
   "outputs": [],
   "source": [
    "word_vectors = gensim.models.Word2Vec.load('../models/w2v_main.word2vec')\n",
    "doc_vectors = gensim.models.Doc2Vec.load('../models/d2v_main.doc2vec')\n",
    "with open('../data/interim/project_documents_main.pickle', 'rb') as h:\n",
    "    text_documents = pickle.load(h)\n",
    "    \n",
    "df['paragraph vectors'] = [doc_vectors.docvecs[title] for title in df['Project Title']]\n",
    "\n",
    "df.reset_index(inplace=True, drop=True)"
   ]
  },
  {
   "cell_type": "code",
   "execution_count": 108,
   "metadata": {
    "collapsed": false
   },
   "outputs": [],
   "source": [
    "gtrs = GtrSearch(df, text_documents, word_vectors)"
   ]
  },
  {
   "cell_type": "code",
   "execution_count": 109,
   "metadata": {
    "collapsed": false
   },
   "outputs": [
    {
     "name": "stdout",
     "output_type": "stream",
     "text": [
      "{'deep_learning', 'data_mining', 'information_retrieval', 'machine-learning', 'software_engineering', 'text_mining', 'data-driven', 'machine_learning', 'pattern_recognition', 'bayesian', 'data_analytics', 'natural_language', 'sensor_fusion'}\n"
     ]
    }
   ],
   "source": [
    "search_results = gtrs.search_queries('machine_learning')"
   ]
  },
  {
   "cell_type": "code",
   "execution_count": 112,
   "metadata": {
    "collapsed": false
   },
   "outputs": [
    {
     "data": {
      "text/plain": [
       "(1662, 11)"
      ]
     },
     "execution_count": 112,
     "metadata": {},
     "output_type": "execute_result"
    }
   ],
   "source": [
    "search_results.shape"
   ]
  },
  {
   "cell_type": "code",
   "execution_count": 110,
   "metadata": {
    "collapsed": true
   },
   "outputs": [],
   "source": [
    "search_results.to_csv('../data/interim/df_search_results.csv')"
   ]
  },
  {
   "cell_type": "code",
   "execution_count": 111,
   "metadata": {
    "collapsed": false
   },
   "outputs": [
    {
     "data": {
      "text/plain": [
       "Counter({'H2020': 465, 'gtr': 805, 'innovateuk': 392})"
      ]
     },
     "execution_count": 111,
     "metadata": {},
     "output_type": "execute_result"
    }
   ],
   "source": [
    "Counter(search_results.dataset_id)"
   ]
  },
  {
   "cell_type": "markdown",
   "metadata": {},
   "source": [
    "## Visualising the results"
   ]
  },
  {
   "cell_type": "code",
   "execution_count": 113,
   "metadata": {
    "collapsed": false
   },
   "outputs": [
    {
     "name": "stdout",
     "output_type": "stream",
     "text": [
      "PERCENTAGE OF H2020 PROJECTS WITH UK PARTICIPATION: 22.795698924731184%\n"
     ]
    }
   ],
   "source": [
    "# UK participation in H2020 VR projects\n",
    "h2020 = pd.read_csv('../data/raw/cordis-h2020projects.csv', sep=';')\n",
    "\n",
    "# H2020 VR projects\n",
    "proj = list(search_results[search_results.dataset_id=='H2020']['project_id'])\n",
    "\n",
    "# Slice H2020\n",
    "participationcountries = h2020[h2020.id.isin(proj)][['participantCountries', 'id']]\n",
    "participationcountries.set_index('id',inplace=True)\n",
    "\n",
    "# Keep the index of observations where UK is in participationcountries \n",
    "uk_h2020_id = [idx for idx, cc in zip(participationcountries.index, participationcountries.participantCountries) \n",
    "               if type(cc) ==str and 'UK' in cc]\n",
    "\n",
    "print('PERCENTAGE OF H2020 PROJECTS WITH UK PARTICIPATION: {}%'.format(len(uk_h2020_id) * 100 / Counter(search_results.dataset_id)['H2020']))"
   ]
  },
  {
   "cell_type": "code",
   "execution_count": 114,
   "metadata": {
    "collapsed": true
   },
   "outputs": [],
   "source": [
    "# remove results without UK participation\n",
    "search_results = search_results[~search_results.project_id.isin(set(search_results[search_results.dataset_id=='H2020']['project_id']) - set(uk_h2020_id))]"
   ]
  },
  {
   "cell_type": "code",
   "execution_count": 115,
   "metadata": {
    "collapsed": false
   },
   "outputs": [
    {
     "data": {
      "text/plain": [
       "(1232, 11)"
      ]
     },
     "execution_count": 115,
     "metadata": {},
     "output_type": "execute_result"
    }
   ],
   "source": [
    "search_results.shape"
   ]
  },
  {
   "cell_type": "code",
   "execution_count": 116,
   "metadata": {
    "collapsed": true
   },
   "outputs": [],
   "source": [
    "# Some wrangling\n",
    "search_results['year'] = search_results['Project Start Date'].apply(lambda x: str(x)[:4])\n",
    "search_results = search_results[search_results['Grant Offered (£)'].isnull()==False]\n",
    "search_results.reset_index(inplace=True)"
   ]
  },
  {
   "cell_type": "code",
   "execution_count": 117,
   "metadata": {
    "collapsed": false
   },
   "outputs": [],
   "source": [
    "# EUR to GBP for h2020 projects\n",
    "for i in range(search_results.shape[0]):\n",
    "    if search_results.loc[i, 'dataset_id'] == 'H2020':\n",
    "        search_results.loc[i, 'Grant Offered (£)'] = float(str(search_results.loc[i, 'Grant Offered (£)']).split(',')[0]) * 0.89\n",
    "    else:\n",
    "        search_results.loc[i, 'Grant Offered (£)'] = float(search_results.loc[i, 'Grant Offered (£)'])"
   ]
  },
  {
   "cell_type": "code",
   "execution_count": 121,
   "metadata": {
    "collapsed": false
   },
   "outputs": [],
   "source": [
    "money = search_results[['year', 'Grant Offered (£)']].groupby('year').sum()['Grant Offered (£)']\n",
    "\n",
    "c=0\n",
    "money_dict = {}\n",
    "for i in range(1, len(money)):\n",
    "    try:\n",
    "        money_dict['-'.join([money.index[c+i-1], money.index[c+i]])] = money[c+i-1] + money[c+i]\n",
    "        c+=1\n",
    "    except IndexError as e:\n",
    "        break\n",
    "        \n",
    "funding = pd.DataFrame.from_dict(money_dict, orient='index') / 1000000\n",
    "funding.rename(index=str, inplace=True, columns={0:'Funding'})"
   ]
  },
  {
   "cell_type": "code",
   "execution_count": 126,
   "metadata": {
    "collapsed": true
   },
   "outputs": [],
   "source": [
    "sorted_funding = funding.iloc[[3,-1,-3,0,1,2, -2]]"
   ]
  },
  {
   "cell_type": "code",
   "execution_count": 128,
   "metadata": {
    "collapsed": false
   },
   "outputs": [],
   "source": [
    "pc = search_results.groupby(['year', 'dataset_id']).count()['project_id'].unstack('dataset_id').fillna(0)"
   ]
  },
  {
   "cell_type": "code",
   "execution_count": 131,
   "metadata": {
    "collapsed": false
   },
   "outputs": [
    {
     "data": {
      "image/png": "[encoded data removed]",
      "text/plain": [
       "<matplotlib.figure.Figure at 0x16200c5c0>"
      ]
     },
     "metadata": {},
     "output_type": "display_data"
    }
   ],
   "source": [
    "f, (ax1,ax2) = plt.subplots(nrows=2, figsize=(15,10))\n",
    "\n",
    "# sorted_funding.div(sorted_funding.iloc[0, ]).plot(ax=ax3, legend=False)\n",
    "# ax3.set_title('Level of funding (base: 2006-2007)', fontsize=12)\n",
    "\n",
    "sorted_funding.plot(ax=ax1, legend=False)\n",
    "ax1.set_title('Funding budget', fontsize=12)\n",
    "ax1.set_ylabel('£m')\n",
    "\n",
    "pc.plot(kind='bar', stacked=True, ax=ax2, rot=0)\n",
    "# pd.DataFrame.from_dict(project_count, orient='index').iloc[[0,1,2,5,3,4],:].plot(ax=ax2)\n",
    "ax2.set_title('Number of projects', fontsize=12)\n",
    "ax2.legend(['H2020','Research Councils UK','Innovate UK'], title='Dataset')\n",
    "ax2.set_ylabel('Project Count')\n",
    "f.savefig('../reports/figures/funding_project_number.png')\n",
    "plt.show()"
   ]
  },
  {
   "cell_type": "code",
   "execution_count": 145,
   "metadata": {
    "collapsed": false
   },
   "outputs": [
    {
     "data": {
      "image/png": "[encoded data removed]",
      "text/plain": [
       "<matplotlib.figure.Figure at 0x16070f6a0>"
      ]
     },
     "metadata": {},
     "output_type": "display_data"
    }
   ],
   "source": [
    "# UK Collaborators\n",
    "collaborators = flatten_lists([set(country.split(';')) \n",
    "                               for country in participationcountries.participantCountries \n",
    "                               if type(country) != float])\n",
    "\n",
    "countries = pd.DataFrame(Counter(collaborators).most_common())\n",
    "countries.rename(index=str, inplace=True, columns={0:'Country Code', 1:'Number of collaborations'})\n",
    "countries.set_index('Country Code', inplace=True)\n",
    "\n",
    "f, ax = plt.subplots(figsize=(12,3))\n",
    "countries.loc[[c for c in countries.index if c != 'UK']].plot(kind='bar', ax=ax, legend=False, color='xkcd:dark blue')\n",
    "ax.set_title('Number of collaborations')\n",
    "f.savefig('../reports/collaborations.png')\n",
    "plt.show()"
   ]
  },
  {
   "cell_type": "code",
   "execution_count": null,
   "metadata": {
    "collapsed": true
   },
   "outputs": [],
   "source": []
  }
 ],
 "metadata": {
  "kernelspec": {
   "display_name": "Python [conda env:nesta]",
   "language": "python",
   "name": "conda-env-nesta-py"
  },
  "language_info": {
   "codemirror_mode": {
    "name": "ipython",
    "version": 3
   },
   "file_extension": ".py",
   "mimetype": "text/x-python",
   "name": "python",
   "nbconvert_exporter": "python",
   "pygments_lexer": "ipython3",
   "version": "3.5.2"
  }
 },
 "nbformat": 4,
 "nbformat_minor": 2
}
