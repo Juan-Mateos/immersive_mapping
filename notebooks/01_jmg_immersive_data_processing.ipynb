{
 "cells": [
  {
   "cell_type": "markdown",
   "metadata": {},
   "source": [
    "# Immersive exploratory analysis\n",
    "\n",
    "**Activities**\n",
    "\n",
    "* Load and process Immersive Survey data\n",
    "* Merge and output\n",
    "\n"
   ]
  },
  {
   "cell_type": "markdown",
   "metadata": {},
   "source": [
    "## Preliminaries\n",
    "\n",
    "Such as paths"
   ]
  },
  {
   "cell_type": "code",
   "execution_count": 33,
   "metadata": {
    "collapsed": false
   },
   "outputs": [],
   "source": [
    "%matplotlib inline\n",
    "#NB I install a standard set of directories\n",
    "\n",
    "#Get the top path\n",
    "top_path = os.path.dirname(os.getcwd())\n",
    "\n",
    "#Create the path for external data\n",
    "ext_data = os.path.join(top_path,'data/external')\n",
    "\n",
    "proc_data = os.path.join(top_path,'data/processed')\n",
    "\n",
    "fig_path = os.path.join(top_path,'reports/figures')"
   ]
  },
  {
   "cell_type": "markdown",
   "metadata": {
    "collapsed": true
   },
   "source": [
    "## Load data"
   ]
  },
  {
   "cell_type": "markdown",
   "metadata": {},
   "source": [
    "### Metadata"
   ]
  },
  {
   "cell_type": "code",
   "execution_count": 34,
   "metadata": {
    "collapsed": false
   },
   "outputs": [
    {
     "name": "stderr",
     "output_type": "stream",
     "text": [
      "/usr/local/lib/python3.5/site-packages/IPython/core/interactiveshell.py:2717: DtypeWarning: Columns (30,35) have mixed types. Specify dtype option on import or set low_memory=False.\n",
      "  interactivity=interactivity, compiler=compiler, result=result)\n"
     ]
    }
   ],
   "source": [
    "#Load nspl to get TTWAs and GORS\n",
    "nspl = pd.read_csv(ext_data+'/NSPL_AUG_2017_UK.csv')\n",
    "\n",
    "#Load the metadata\n",
    "ttwa_names = pd.read_table(ext_data+'/ttwa_names_codes.txt',delimiter='\\t')\n",
    "gor_names = pd.read_table(ext_data+'/Region names and codes EN as at 12_10 (GOR).txt',delimiter='\\t')\n",
    "\n",
    "\n",
    "#Create name lookups\n",
    "ttwa_codes_names_lookup = {x:y for x,y in zip(ttwa_names['TTWA11CD'],\n",
    "                                             ttwa_names['TTWA11NM'])}\n",
    "\n",
    "gor_names_lookup = {x:y if 'pseudo' not in y else y[9:] for x,y in zip(gor_names['GOR10CD'],gor_names['GOR10NM'])}"
   ]
  },
  {
   "cell_type": "code",
   "execution_count": 35,
   "metadata": {
    "collapsed": false
   },
   "outputs": [
    {
     "data": {
      "text/html": [
       "<div>\n",
       "<style scoped>\n",
       "    .dataframe tbody tr th:only-of-type {\n",
       "        vertical-align: middle;\n",
       "    }\n",
       "\n",
       "    .dataframe tbody tr th {\n",
       "        vertical-align: top;\n",
       "    }\n",
       "\n",
       "    .dataframe thead th {\n",
       "        text-align: right;\n",
       "    }\n",
       "</style>\n",
       "<table border=\"1\" class=\"dataframe\">\n",
       "  <thead>\n",
       "    <tr style=\"text-align: right;\">\n",
       "      <th></th>\n",
       "      <th>q</th>\n",
       "      <th>q_name_long</th>\n",
       "      <th>q_name_short</th>\n",
       "      <th>q.1</th>\n",
       "      <th>type</th>\n",
       "      <th>role</th>\n",
       "      <th>category</th>\n",
       "    </tr>\n",
       "  </thead>\n",
       "  <tbody>\n",
       "    <tr>\n",
       "      <th>78</th>\n",
       "      <td>Q14_3</td>\n",
       "      <td>barriers- Limited opportunities to access finance</td>\n",
       "      <td>q14_barriers_finance</td>\n",
       "      <td>q14_barriers_</td>\n",
       "      <td>finance</td>\n",
       "      <td>NaN</td>\n",
       "      <td>NaN</td>\n",
       "    </tr>\n",
       "    <tr>\n",
       "      <th>79</th>\n",
       "      <td>Q14_4</td>\n",
       "      <td>barriers- Overall economic climate</td>\n",
       "      <td>q14_barriers_economic_climate</td>\n",
       "      <td>q14_barriers_</td>\n",
       "      <td>economic_climate</td>\n",
       "      <td>NaN</td>\n",
       "      <td>2.0</td>\n",
       "    </tr>\n",
       "    <tr>\n",
       "      <th>80</th>\n",
       "      <td>Q14_1</td>\n",
       "      <td>barriers- It is hard to recruit talent with th...</td>\n",
       "      <td>q14_barriers_skills_shortages</td>\n",
       "      <td>q14_barriers_</td>\n",
       "      <td>skills_shortages</td>\n",
       "      <td>NaN</td>\n",
       "      <td>2.0</td>\n",
       "    </tr>\n",
       "    <tr>\n",
       "      <th>81</th>\n",
       "      <td>Q14_2</td>\n",
       "      <td>barriers- Lack of supply of highly skilled wor...</td>\n",
       "      <td>q14_barriers_skills_shortages_education</td>\n",
       "      <td>q14_barriers_</td>\n",
       "      <td>skills_shortages_education</td>\n",
       "      <td>NaN</td>\n",
       "      <td>2.0</td>\n",
       "    </tr>\n",
       "    <tr>\n",
       "      <th>82</th>\n",
       "      <td>Q14_9</td>\n",
       "      <td>barriers- Unaware of latest research and devel...</td>\n",
       "      <td>q14_barriers_access_university_knowledge</td>\n",
       "      <td>q14_barriers_</td>\n",
       "      <td>access_university_knowledge</td>\n",
       "      <td>NaN</td>\n",
       "      <td>2.0</td>\n",
       "    </tr>\n",
       "    <tr>\n",
       "      <th>83</th>\n",
       "      <td>Q14_7</td>\n",
       "      <td>barriers- Poor technical infrastructure (e.g. ...</td>\n",
       "      <td>q14_barriers_technical_infrastructure</td>\n",
       "      <td>q14_barriers_</td>\n",
       "      <td>technical_infrastructure</td>\n",
       "      <td>NaN</td>\n",
       "      <td>2.0</td>\n",
       "    </tr>\n",
       "    <tr>\n",
       "      <th>84</th>\n",
       "      <td>Q14_8</td>\n",
       "      <td>barriers- Lack of knowledge on latest market r...</td>\n",
       "      <td>q14_barriers_market_knowledge</td>\n",
       "      <td>q14_barriers_</td>\n",
       "      <td>market_knowledge</td>\n",
       "      <td>NaN</td>\n",
       "      <td>2.0</td>\n",
       "    </tr>\n",
       "    <tr>\n",
       "      <th>85</th>\n",
       "      <td>Q14_5</td>\n",
       "      <td>barriers- Lack of formal advice and mentoring ...</td>\n",
       "      <td>q14_barriers_lack_advice</td>\n",
       "      <td>q14_barriers_</td>\n",
       "      <td>lack_advice</td>\n",
       "      <td>NaN</td>\n",
       "      <td>2.0</td>\n",
       "    </tr>\n",
       "    <tr>\n",
       "      <th>86</th>\n",
       "      <td>Q14_6</td>\n",
       "      <td>barriers- Limited supply of appropriate proper...</td>\n",
       "      <td>q14_barriers_office_space</td>\n",
       "      <td>q14_barriers_</td>\n",
       "      <td>office_space</td>\n",
       "      <td>NaN</td>\n",
       "      <td>2.0</td>\n",
       "    </tr>\n",
       "    <tr>\n",
       "      <th>87</th>\n",
       "      <td>Q14_11</td>\n",
       "      <td>barriers- Government policy (e.g. tax breaks, ...</td>\n",
       "      <td>q14_barriers_government_policy</td>\n",
       "      <td>q14_barriers_</td>\n",
       "      <td>government_policy</td>\n",
       "      <td>NaN</td>\n",
       "      <td>2.0</td>\n",
       "    </tr>\n",
       "    <tr>\n",
       "      <th>88</th>\n",
       "      <td>Q14_10</td>\n",
       "      <td>barriers- Poor transport infrastructure</td>\n",
       "      <td>q14_barriers_transport</td>\n",
       "      <td>q14_barriers_</td>\n",
       "      <td>transport</td>\n",
       "      <td>NaN</td>\n",
       "      <td>2.0</td>\n",
       "    </tr>\n",
       "    <tr>\n",
       "      <th>89</th>\n",
       "      <td>Q14_18</td>\n",
       "      <td>barriers- Lack of understanding of the potenti...</td>\n",
       "      <td>q14_barriers_technology_understanding</td>\n",
       "      <td>q14_barriers_</td>\n",
       "      <td>technology_understanding</td>\n",
       "      <td>NaN</td>\n",
       "      <td>2.0</td>\n",
       "    </tr>\n",
       "    <tr>\n",
       "      <th>90</th>\n",
       "      <td>Q14_13</td>\n",
       "      <td>barriers- Low device penetration among consumers</td>\n",
       "      <td>q14_barriers_device_penetratiom</td>\n",
       "      <td>q14_barriers_</td>\n",
       "      <td>device_penetratiom</td>\n",
       "      <td>NaN</td>\n",
       "      <td>2.0</td>\n",
       "    </tr>\n",
       "    <tr>\n",
       "      <th>91</th>\n",
       "      <td>Q14_16</td>\n",
       "      <td>barriers- Untested business models and return ...</td>\n",
       "      <td>q14_barriers_business_model</td>\n",
       "      <td>q14_barriers_</td>\n",
       "      <td>business_model</td>\n",
       "      <td>NaN</td>\n",
       "      <td>2.0</td>\n",
       "    </tr>\n",
       "    <tr>\n",
       "      <th>92</th>\n",
       "      <td>Q14_14</td>\n",
       "      <td>barriers- Underdeveloped industry standards an...</td>\n",
       "      <td>q14_barriers_lack_standards</td>\n",
       "      <td>q14_barriers_</td>\n",
       "      <td>lack_standards</td>\n",
       "      <td>NaN</td>\n",
       "      <td>2.0</td>\n",
       "    </tr>\n",
       "    <tr>\n",
       "      <th>93</th>\n",
       "      <td>Q14_12</td>\n",
       "      <td>barriers- Fragmented device eco-system</td>\n",
       "      <td>q14_barriers_fragmented_tech_ecosystem</td>\n",
       "      <td>q14_barriers_</td>\n",
       "      <td>fragmented_tech_ecosystem</td>\n",
       "      <td>NaN</td>\n",
       "      <td>2.0</td>\n",
       "    </tr>\n",
       "    <tr>\n",
       "      <th>94</th>\n",
       "      <td>Q14_15</td>\n",
       "      <td>barriers- Poor quality applications in the market</td>\n",
       "      <td>q14_barriers_poor_applications</td>\n",
       "      <td>q14_barriers_</td>\n",
       "      <td>poor_applications</td>\n",
       "      <td>NaN</td>\n",
       "      <td>2.0</td>\n",
       "    </tr>\n",
       "    <tr>\n",
       "      <th>95</th>\n",
       "      <td>Q14_17</td>\n",
       "      <td>barriers- Lack of internal time and resources ...</td>\n",
       "      <td>q14_barriers_lack_time_resources</td>\n",
       "      <td>q14_barriers_</td>\n",
       "      <td>lack_time_resources</td>\n",
       "      <td>NaN</td>\n",
       "      <td>2.0</td>\n",
       "    </tr>\n",
       "    <tr>\n",
       "      <th>96</th>\n",
       "      <td>Q14_19</td>\n",
       "      <td>barriers- Other</td>\n",
       "      <td>q14_barriers_oher</td>\n",
       "      <td>q14_barriers_</td>\n",
       "      <td>oher</td>\n",
       "      <td>NaN</td>\n",
       "      <td>2.0</td>\n",
       "    </tr>\n",
       "  </tbody>\n",
       "</table>\n",
       "</div>"
      ],
      "text/plain": [
       "         q                                        q_name_long  \\\n",
       "78   Q14_3  barriers- Limited opportunities to access finance   \n",
       "79   Q14_4                 barriers- Overall economic climate   \n",
       "80   Q14_1  barriers- It is hard to recruit talent with th...   \n",
       "81   Q14_2  barriers- Lack of supply of highly skilled wor...   \n",
       "82   Q14_9  barriers- Unaware of latest research and devel...   \n",
       "83   Q14_7  barriers- Poor technical infrastructure (e.g. ...   \n",
       "84   Q14_8  barriers- Lack of knowledge on latest market r...   \n",
       "85   Q14_5  barriers- Lack of formal advice and mentoring ...   \n",
       "86   Q14_6  barriers- Limited supply of appropriate proper...   \n",
       "87  Q14_11  barriers- Government policy (e.g. tax breaks, ...   \n",
       "88  Q14_10            barriers- Poor transport infrastructure   \n",
       "89  Q14_18  barriers- Lack of understanding of the potenti...   \n",
       "90  Q14_13   barriers- Low device penetration among consumers   \n",
       "91  Q14_16  barriers- Untested business models and return ...   \n",
       "92  Q14_14  barriers- Underdeveloped industry standards an...   \n",
       "93  Q14_12             barriers- Fragmented device eco-system   \n",
       "94  Q14_15  barriers- Poor quality applications in the market   \n",
       "95  Q14_17  barriers- Lack of internal time and resources ...   \n",
       "96  Q14_19                                    barriers- Other   \n",
       "\n",
       "                                q_name_short            q.1  \\\n",
       "78                      q14_barriers_finance  q14_barriers_   \n",
       "79             q14_barriers_economic_climate  q14_barriers_   \n",
       "80             q14_barriers_skills_shortages  q14_barriers_   \n",
       "81   q14_barriers_skills_shortages_education  q14_barriers_   \n",
       "82  q14_barriers_access_university_knowledge  q14_barriers_   \n",
       "83     q14_barriers_technical_infrastructure  q14_barriers_   \n",
       "84             q14_barriers_market_knowledge  q14_barriers_   \n",
       "85                  q14_barriers_lack_advice  q14_barriers_   \n",
       "86                 q14_barriers_office_space  q14_barriers_   \n",
       "87            q14_barriers_government_policy  q14_barriers_   \n",
       "88                    q14_barriers_transport  q14_barriers_   \n",
       "89     q14_barriers_technology_understanding  q14_barriers_   \n",
       "90           q14_barriers_device_penetratiom  q14_barriers_   \n",
       "91               q14_barriers_business_model  q14_barriers_   \n",
       "92               q14_barriers_lack_standards  q14_barriers_   \n",
       "93    q14_barriers_fragmented_tech_ecosystem  q14_barriers_   \n",
       "94            q14_barriers_poor_applications  q14_barriers_   \n",
       "95          q14_barriers_lack_time_resources  q14_barriers_   \n",
       "96                         q14_barriers_oher  q14_barriers_   \n",
       "\n",
       "                           type role  category  \n",
       "78                      finance  NaN       NaN  \n",
       "79             economic_climate  NaN       2.0  \n",
       "80             skills_shortages  NaN       2.0  \n",
       "81   skills_shortages_education  NaN       2.0  \n",
       "82  access_university_knowledge  NaN       2.0  \n",
       "83     technical_infrastructure  NaN       2.0  \n",
       "84             market_knowledge  NaN       2.0  \n",
       "85                  lack_advice  NaN       2.0  \n",
       "86                 office_space  NaN       2.0  \n",
       "87            government_policy  NaN       2.0  \n",
       "88                    transport  NaN       2.0  \n",
       "89     technology_understanding  NaN       2.0  \n",
       "90           device_penetratiom  NaN       2.0  \n",
       "91               business_model  NaN       2.0  \n",
       "92               lack_standards  NaN       2.0  \n",
       "93    fragmented_tech_ecosystem  NaN       2.0  \n",
       "94            poor_applications  NaN       2.0  \n",
       "95          lack_time_resources  NaN       2.0  \n",
       "96                         oher  NaN       2.0  "
      ]
     },
     "execution_count": 35,
     "metadata": {},
     "output_type": "execute_result"
    }
   ],
   "source": [
    "# Survey data dictionary\n",
    "#Load\n",
    "data_dict = pd.read_excel(ext_data+'/11_02_2018_survey_data_dictionary_v2.xlsx')\n",
    "\n",
    "#And turn it into a dict with keys = old names and values = new names\n",
    "data_q_lookup = {x:y for x,y in zip(data_dict.q,data_dict.q_name_short)}\n",
    "\n",
    "#data_q_lookup\n",
    "\n",
    "data_dict.loc[['Q14' in x for x in data_dict.q]]"
   ]
  },
  {
   "cell_type": "markdown",
   "metadata": {},
   "source": [
    "### MTM survey"
   ]
  },
  {
   "cell_type": "code",
   "execution_count": 36,
   "metadata": {
    "collapsed": false
   },
   "outputs": [],
   "source": [
    "def load_clean_survey(survey_path,data_dict):\n",
    "    '''\n",
    "    This function loads a survey csv file and relabels the columns with a cleaned up data dict\n",
    "    The data dict is a csv where the messy question names are mapped vs clean ones\n",
    "    \n",
    "    '''\n",
    "    \n",
    "    survey_messy = pd.read_csv(ext_data+survey_path,encoding='latin1')\n",
    "\n",
    "    #We only keep the questions in the data dictionary\n",
    "    survey_subset = survey_messy.loc[:,[x for x in survey_messy.columns if x in list(data_dict.keys())]]\n",
    "\n",
    "    #We rename the messy names based on the lookup\n",
    "    survey_subset.columns= [data_dict[x] for x in survey_subset.columns]\n",
    "\n",
    "    return(survey_subset)"
   ]
  },
  {
   "cell_type": "code",
   "execution_count": 37,
   "metadata": {
    "collapsed": false
   },
   "outputs": [],
   "source": [
    "mtm_from_spss_v1 = load_clean_survey('/14_2_2018_immersive_survey.csv',data_q_lookup)\n",
    "\n",
    "\n",
    "#Get the part of this which has company metadata\n",
    "meta_vars = ['id','orgname','q2_3_postcode','q2_4_email']"
   ]
  },
  {
   "cell_type": "code",
   "execution_count": 38,
   "metadata": {
    "collapsed": false
   },
   "outputs": [],
   "source": [
    "#Load the second survey (which has been cleaned and for some reason doesn't include the metadata)\n",
    "\n",
    "mtm_from_spss_v2 = load_clean_survey(survey_path='/14_2_2018_immersive_survey_v2.csv',data_dict=data_q_lookup) "
   ]
  },
  {
   "cell_type": "code",
   "execution_count": 39,
   "metadata": {
    "collapsed": false
   },
   "outputs": [],
   "source": [
    "mtm_merged = pd.merge(mtm_from_spss_v1[meta_vars],mtm_from_spss_v2,left_on='id',right_on='id')"
   ]
  },
  {
   "cell_type": "code",
   "execution_count": 40,
   "metadata": {
    "collapsed": false
   },
   "outputs": [],
   "source": [
    "#Clean postcodes\n",
    "mtm_merged['q2_3_postcode'] = [x.upper().strip() for x in mtm_merged['q2_3_postcode']]\n",
    "\n",
    "mtm_merged['clean_postcode'] = [x if ' ' in x else x[:2]+' '+x[2:] for x in mtm_merged['q2_3_postcode']]"
   ]
  },
  {
   "cell_type": "code",
   "execution_count": 41,
   "metadata": {
    "collapsed": false
   },
   "outputs": [],
   "source": [
    "#Add geocodes\n",
    "\n",
    "mtm_geo = pd.merge(mtm_merged,nspl[['pcds','ttwa','gor']],left_on='clean_postcode',right_on='pcds',how='left')\n",
    "mtm_geo['ttwa_name']= [ttwa_codes_names_lookup[x] if x in ttwa_codes_names_lookup.keys() else np.nan for x in mtm_geo['ttwa']]\n",
    "mtm_geo['reg_nat'] = [gor_names_lookup[x] if x in gor_names_lookup.keys() else np.nan for x in mtm_geo['gor']]"
   ]
  },
  {
   "cell_type": "code",
   "execution_count": 42,
   "metadata": {
    "collapsed": false
   },
   "outputs": [
    {
     "data": {
      "text/plain": [
       "London                      84\n",
       "South East                  37\n",
       "North West                  30\n",
       "South West                  21\n",
       "Yorkshire and The Humber    15\n",
       "Scotland                    13\n",
       "Northern Ireland            11\n",
       "East of England             10\n",
       "Wales                        7\n",
       "West Midlands                5\n",
       "East Midlands                5\n",
       "North East                   3\n",
       "Name: reg_nat, dtype: int64"
      ]
     },
     "execution_count": 42,
     "metadata": {},
     "output_type": "execute_result"
    }
   ],
   "source": [
    "mtm_geo['reg_nat'].value_counts()"
   ]
  },
  {
   "cell_type": "code",
   "execution_count": 43,
   "metadata": {
    "collapsed": false
   },
   "outputs": [],
   "source": [
    "#Let us extract the web domain of those companies where we have failed to match the postcodes\n",
    "mtm_geo['domain'] = [x.split('@')[1].strip().lower() for x in mtm_geo['q2_4_email']]\n",
    "\n",
    "\n",
    "mtm_no_ttwa_domain = [x for x in mtm_geo.loc[mtm_geo.ttwa_name.isna(),'domain']]"
   ]
  },
  {
   "cell_type": "code",
   "execution_count": 44,
   "metadata": {
    "collapsed": false
   },
   "outputs": [
    {
     "data": {
      "text/plain": [
       "(278, 148)"
      ]
     },
     "execution_count": 44,
     "metadata": {},
     "output_type": "execute_result"
    }
   ],
   "source": [
    "#Some quick checks\n",
    "\n",
    "mtm_geo.shape"
   ]
  },
  {
   "cell_type": "markdown",
   "metadata": {},
   "source": [
    "278 responses"
   ]
  },
  {
   "cell_type": "code",
   "execution_count": 45,
   "metadata": {
    "collapsed": false
   },
   "outputs": [],
   "source": [
    "#Are there any repeated domains?\n",
    "domain_counts = mtm_geo.loc[[x !='gmail.com' for x in mtm_geo.domain],'domain'].value_counts()\n",
    "\n",
    "#Which ones?\n",
    "repeated_domains = domain_counts.index[domain_counts>1]"
   ]
  },
  {
   "cell_type": "code",
   "execution_count": 46,
   "metadata": {
    "collapsed": false
   },
   "outputs": [
    {
     "name": "stdout",
     "output_type": "stream",
     "text": [
      "5\n"
     ]
    }
   ],
   "source": [
    "#How many?\n",
    "print(mtm_geo.loc[[x !='gmail.com' for x in mtm_geo.domain],:].duplicated('domain').sum())"
   ]
  },
  {
   "cell_type": "markdown",
   "metadata": {},
   "source": [
    "5 duplicated domains"
   ]
  },
  {
   "cell_type": "code",
   "execution_count": 47,
   "metadata": {
    "collapsed": false
   },
   "outputs": [
    {
     "data": {
      "text/html": [
       "<div>\n",
       "<style scoped>\n",
       "    .dataframe tbody tr th:only-of-type {\n",
       "        vertical-align: middle;\n",
       "    }\n",
       "\n",
       "    .dataframe tbody tr th {\n",
       "        vertical-align: top;\n",
       "    }\n",
       "\n",
       "    .dataframe thead th {\n",
       "        text-align: right;\n",
       "    }\n",
       "</style>\n",
       "<table border=\"1\" class=\"dataframe\">\n",
       "  <thead>\n",
       "    <tr style=\"text-align: right;\">\n",
       "      <th></th>\n",
       "      <th>id</th>\n",
       "      <th>orgname</th>\n",
       "      <th>q2_3_postcode</th>\n",
       "      <th>q2_4_email</th>\n",
       "      <th>q3_market_role_vr_techdev</th>\n",
       "      <th>q3_market_role_ar_techdev</th>\n",
       "      <th>q3_market_role_other_ie_techdev</th>\n",
       "      <th>q3_market_role_vr_content</th>\n",
       "      <th>q3_market_role_ar_content</th>\n",
       "      <th>q3_market_role_other_ie_content</th>\n",
       "      <th>...</th>\n",
       "      <th>q3_role_network</th>\n",
       "      <th>q3_role_finance</th>\n",
       "      <th>q3_role_other</th>\n",
       "      <th>clean_postcode</th>\n",
       "      <th>pcds</th>\n",
       "      <th>ttwa</th>\n",
       "      <th>gor</th>\n",
       "      <th>ttwa_name</th>\n",
       "      <th>reg_nat</th>\n",
       "      <th>domain</th>\n",
       "    </tr>\n",
       "  </thead>\n",
       "  <tbody>\n",
       "    <tr>\n",
       "      <th>7</th>\n",
       "      <td>3350337</td>\n",
       "      <td>Nuclear AMRC                                  ...</td>\n",
       "      <td>S60 5WG</td>\n",
       "      <td>r.w.scott@amrc.co.uk                          ...</td>\n",
       "      <td>Yes</td>\n",
       "      <td>Yes</td>\n",
       "      <td>No</td>\n",
       "      <td>Yes</td>\n",
       "      <td>Yes</td>\n",
       "      <td>No</td>\n",
       "      <td>...</td>\n",
       "      <td>No</td>\n",
       "      <td>No</td>\n",
       "      <td>No</td>\n",
       "      <td>S60 5WG</td>\n",
       "      <td>S60 5WG</td>\n",
       "      <td>E30000261</td>\n",
       "      <td>E12000003</td>\n",
       "      <td>Sheffield</td>\n",
       "      <td>Yorkshire and The Humber</td>\n",
       "      <td>amrc.co.uk</td>\n",
       "    </tr>\n",
       "    <tr>\n",
       "      <th>99</th>\n",
       "      <td>3373758</td>\n",
       "      <td>AMRC with Boeing                              ...</td>\n",
       "      <td>S9 1ZA</td>\n",
       "      <td>c.freeman@amrc.co.uk                          ...</td>\n",
       "      <td>Yes</td>\n",
       "      <td>Yes</td>\n",
       "      <td>Yes</td>\n",
       "      <td>Yes</td>\n",
       "      <td>Yes</td>\n",
       "      <td>Yes</td>\n",
       "      <td>...</td>\n",
       "      <td>Trade body, association or industry network</td>\n",
       "      <td>No</td>\n",
       "      <td>No</td>\n",
       "      <td>S9 1ZA</td>\n",
       "      <td>S9 1ZA</td>\n",
       "      <td>E30000261</td>\n",
       "      <td>E12000003</td>\n",
       "      <td>Sheffield</td>\n",
       "      <td>Yorkshire and The Humber</td>\n",
       "      <td>amrc.co.uk</td>\n",
       "    </tr>\n",
       "    <tr>\n",
       "      <th>173</th>\n",
       "      <td>3392856</td>\n",
       "      <td>BBC Research &amp; Development                    ...</td>\n",
       "      <td>M50 2LH</td>\n",
       "      <td>simon.lumb@bbc.co.uk                          ...</td>\n",
       "      <td>Yes</td>\n",
       "      <td>Yes</td>\n",
       "      <td>No</td>\n",
       "      <td>Yes</td>\n",
       "      <td>Yes</td>\n",
       "      <td>No</td>\n",
       "      <td>...</td>\n",
       "      <td>No</td>\n",
       "      <td>No</td>\n",
       "      <td>No</td>\n",
       "      <td>M50 2LH</td>\n",
       "      <td>M50 2LH</td>\n",
       "      <td>E30000239</td>\n",
       "      <td>E12000002</td>\n",
       "      <td>Manchester</td>\n",
       "      <td>North West</td>\n",
       "      <td>bbc.co.uk</td>\n",
       "    </tr>\n",
       "    <tr>\n",
       "      <th>270</th>\n",
       "      <td>3627440</td>\n",
       "      <td>BBC Cymru Wales                               ...</td>\n",
       "      <td>CF5 2YQ</td>\n",
       "      <td>robin.moore@bbc.co.uk                         ...</td>\n",
       "      <td>No</td>\n",
       "      <td>No</td>\n",
       "      <td>No</td>\n",
       "      <td>Yes</td>\n",
       "      <td>Yes</td>\n",
       "      <td>Yes</td>\n",
       "      <td>...</td>\n",
       "      <td>No</td>\n",
       "      <td>No</td>\n",
       "      <td>No</td>\n",
       "      <td>CF5 2YQ</td>\n",
       "      <td>CF5 2YQ</td>\n",
       "      <td>W22000024</td>\n",
       "      <td>W99999999</td>\n",
       "      <td>Cardiff</td>\n",
       "      <td>Wales</td>\n",
       "      <td>bbc.co.uk</td>\n",
       "    </tr>\n",
       "    <tr>\n",
       "      <th>39</th>\n",
       "      <td>3351034</td>\n",
       "      <td>South Down Project                            ...</td>\n",
       "      <td>BN44 3TX</td>\n",
       "      <td>robinbrownsell@me.com                         ...</td>\n",
       "      <td>No</td>\n",
       "      <td>No</td>\n",
       "      <td>No</td>\n",
       "      <td>Yes</td>\n",
       "      <td>Yes</td>\n",
       "      <td>No</td>\n",
       "      <td>...</td>\n",
       "      <td>No</td>\n",
       "      <td>No</td>\n",
       "      <td>No</td>\n",
       "      <td>BN44 3TX</td>\n",
       "      <td>BN44 3TX</td>\n",
       "      <td>E30000292</td>\n",
       "      <td>E12000008</td>\n",
       "      <td>Worthing</td>\n",
       "      <td>South East</td>\n",
       "      <td>me.com</td>\n",
       "    </tr>\n",
       "    <tr>\n",
       "      <th>274</th>\n",
       "      <td>3634452</td>\n",
       "      <td>Juice Immersive                               ...</td>\n",
       "      <td>L19 7NN</td>\n",
       "      <td>owencotterell@me.com                          ...</td>\n",
       "      <td>Yes</td>\n",
       "      <td>Yes</td>\n",
       "      <td>No</td>\n",
       "      <td>Yes</td>\n",
       "      <td>Yes</td>\n",
       "      <td>No</td>\n",
       "      <td>...</td>\n",
       "      <td>No</td>\n",
       "      <td>No</td>\n",
       "      <td>No</td>\n",
       "      <td>L19 7NN</td>\n",
       "      <td>L19 7NN</td>\n",
       "      <td>E30000233</td>\n",
       "      <td>E12000002</td>\n",
       "      <td>Liverpool</td>\n",
       "      <td>North West</td>\n",
       "      <td>me.com</td>\n",
       "    </tr>\n",
       "    <tr>\n",
       "      <th>62</th>\n",
       "      <td>3372580</td>\n",
       "      <td>Edinburgh Napier University                   ...</td>\n",
       "      <td>EH10 5DT</td>\n",
       "      <td>callum.egan@napier.ac.uk                      ...</td>\n",
       "      <td>Yes</td>\n",
       "      <td>Yes</td>\n",
       "      <td>Yes</td>\n",
       "      <td>No</td>\n",
       "      <td>No</td>\n",
       "      <td>No</td>\n",
       "      <td>...</td>\n",
       "      <td>Trade body, association or industry network</td>\n",
       "      <td>No</td>\n",
       "      <td>No</td>\n",
       "      <td>EH10 5DT</td>\n",
       "      <td>EH10 5DT</td>\n",
       "      <td>S22000059</td>\n",
       "      <td>S99999999</td>\n",
       "      <td>Edinburgh</td>\n",
       "      <td>Scotland</td>\n",
       "      <td>napier.ac.uk</td>\n",
       "    </tr>\n",
       "    <tr>\n",
       "      <th>268</th>\n",
       "      <td>3626326</td>\n",
       "      <td>The Walt Disney Company and Edinburgh Napier U...</td>\n",
       "      <td>EH9 8AA</td>\n",
       "      <td>k.mitchell2@napier.ac.uk                      ...</td>\n",
       "      <td>Yes</td>\n",
       "      <td>Yes</td>\n",
       "      <td>Yes</td>\n",
       "      <td>Yes</td>\n",
       "      <td>Yes</td>\n",
       "      <td>Yes</td>\n",
       "      <td>...</td>\n",
       "      <td>No</td>\n",
       "      <td>Financial support / investment / public funder</td>\n",
       "      <td>Other</td>\n",
       "      <td>EH9 8AA</td>\n",
       "      <td>EH9 8AA</td>\n",
       "      <td>S22000059</td>\n",
       "      <td>S99999999</td>\n",
       "      <td>Edinburgh</td>\n",
       "      <td>Scotland</td>\n",
       "      <td>napier.ac.uk</td>\n",
       "    </tr>\n",
       "    <tr>\n",
       "      <th>12</th>\n",
       "      <td>3350348</td>\n",
       "      <td>The Old Market                                ...</td>\n",
       "      <td>BN3 1AS</td>\n",
       "      <td>james@theoldmarket.com                        ...</td>\n",
       "      <td>No</td>\n",
       "      <td>No</td>\n",
       "      <td>No</td>\n",
       "      <td>Yes</td>\n",
       "      <td>Yes</td>\n",
       "      <td>No</td>\n",
       "      <td>...</td>\n",
       "      <td>No</td>\n",
       "      <td>No</td>\n",
       "      <td>Other</td>\n",
       "      <td>BN3 1AS</td>\n",
       "      <td>BN3 1AS</td>\n",
       "      <td>E30000179</td>\n",
       "      <td>E12000008</td>\n",
       "      <td>Brighton</td>\n",
       "      <td>South East</td>\n",
       "      <td>theoldmarket.com</td>\n",
       "    </tr>\n",
       "    <tr>\n",
       "      <th>258</th>\n",
       "      <td>3404551</td>\n",
       "      <td>The Old Market                                ...</td>\n",
       "      <td>BN3 1AS</td>\n",
       "      <td>james@theoldmarket.com                        ...</td>\n",
       "      <td>No</td>\n",
       "      <td>No</td>\n",
       "      <td>No</td>\n",
       "      <td>Yes</td>\n",
       "      <td>Yes</td>\n",
       "      <td>No</td>\n",
       "      <td>...</td>\n",
       "      <td>Trade body, association or industry network</td>\n",
       "      <td>Financial support / investment / public funder</td>\n",
       "      <td>No</td>\n",
       "      <td>BN3 1AS</td>\n",
       "      <td>BN3 1AS</td>\n",
       "      <td>E30000179</td>\n",
       "      <td>E12000008</td>\n",
       "      <td>Brighton</td>\n",
       "      <td>South East</td>\n",
       "      <td>theoldmarket.com</td>\n",
       "    </tr>\n",
       "  </tbody>\n",
       "</table>\n",
       "<p>10 rows × 148 columns</p>\n",
       "</div>"
      ],
      "text/plain": [
       "          id                                            orgname q2_3_postcode  \\\n",
       "7    3350337  Nuclear AMRC                                  ...       S60 5WG   \n",
       "99   3373758  AMRC with Boeing                              ...        S9 1ZA   \n",
       "173  3392856  BBC Research & Development                    ...       M50 2LH   \n",
       "270  3627440  BBC Cymru Wales                               ...       CF5 2YQ   \n",
       "39   3351034  South Down Project                            ...      BN44 3TX   \n",
       "274  3634452  Juice Immersive                               ...       L19 7NN   \n",
       "62   3372580  Edinburgh Napier University                   ...      EH10 5DT   \n",
       "268  3626326  The Walt Disney Company and Edinburgh Napier U...       EH9 8AA   \n",
       "12   3350348  The Old Market                                ...       BN3 1AS   \n",
       "258  3404551  The Old Market                                ...       BN3 1AS   \n",
       "\n",
       "                                            q2_4_email  \\\n",
       "7    r.w.scott@amrc.co.uk                          ...   \n",
       "99   c.freeman@amrc.co.uk                          ...   \n",
       "173  simon.lumb@bbc.co.uk                          ...   \n",
       "270  robin.moore@bbc.co.uk                         ...   \n",
       "39   robinbrownsell@me.com                         ...   \n",
       "274  owencotterell@me.com                          ...   \n",
       "62   callum.egan@napier.ac.uk                      ...   \n",
       "268  k.mitchell2@napier.ac.uk                      ...   \n",
       "12   james@theoldmarket.com                        ...   \n",
       "258  james@theoldmarket.com                        ...   \n",
       "\n",
       "    q3_market_role_vr_techdev q3_market_role_ar_techdev  \\\n",
       "7                         Yes                       Yes   \n",
       "99                        Yes                       Yes   \n",
       "173                       Yes                       Yes   \n",
       "270                        No                        No   \n",
       "39                         No                        No   \n",
       "274                       Yes                       Yes   \n",
       "62                        Yes                       Yes   \n",
       "268                       Yes                       Yes   \n",
       "12                         No                        No   \n",
       "258                        No                        No   \n",
       "\n",
       "    q3_market_role_other_ie_techdev q3_market_role_vr_content  \\\n",
       "7                                No                       Yes   \n",
       "99                              Yes                       Yes   \n",
       "173                              No                       Yes   \n",
       "270                              No                       Yes   \n",
       "39                               No                       Yes   \n",
       "274                              No                       Yes   \n",
       "62                              Yes                        No   \n",
       "268                             Yes                       Yes   \n",
       "12                               No                       Yes   \n",
       "258                              No                       Yes   \n",
       "\n",
       "    q3_market_role_ar_content q3_market_role_other_ie_content  \\\n",
       "7                         Yes                              No   \n",
       "99                        Yes                             Yes   \n",
       "173                       Yes                              No   \n",
       "270                       Yes                             Yes   \n",
       "39                        Yes                              No   \n",
       "274                       Yes                              No   \n",
       "62                         No                              No   \n",
       "268                       Yes                             Yes   \n",
       "12                        Yes                              No   \n",
       "258                       Yes                              No   \n",
       "\n",
       "           ...                                     q3_role_network  \\\n",
       "7          ...                                                  No   \n",
       "99         ...         Trade body, association or industry network   \n",
       "173        ...                                                  No   \n",
       "270        ...                                                  No   \n",
       "39         ...                                                  No   \n",
       "274        ...                                                  No   \n",
       "62         ...         Trade body, association or industry network   \n",
       "268        ...                                                  No   \n",
       "12         ...                                                  No   \n",
       "258        ...         Trade body, association or industry network   \n",
       "\n",
       "                                    q3_role_finance q3_role_other  \\\n",
       "7                                                No            No   \n",
       "99                                               No            No   \n",
       "173                                              No            No   \n",
       "270                                              No            No   \n",
       "39                                               No            No   \n",
       "274                                              No            No   \n",
       "62                                               No            No   \n",
       "268  Financial support / investment / public funder         Other   \n",
       "12                                               No         Other   \n",
       "258  Financial support / investment / public funder            No   \n",
       "\n",
       "    clean_postcode      pcds       ttwa        gor   ttwa_name  \\\n",
       "7          S60 5WG   S60 5WG  E30000261  E12000003   Sheffield   \n",
       "99          S9 1ZA    S9 1ZA  E30000261  E12000003   Sheffield   \n",
       "173        M50 2LH   M50 2LH  E30000239  E12000002  Manchester   \n",
       "270        CF5 2YQ   CF5 2YQ  W22000024  W99999999     Cardiff   \n",
       "39        BN44 3TX  BN44 3TX  E30000292  E12000008    Worthing   \n",
       "274        L19 7NN   L19 7NN  E30000233  E12000002   Liverpool   \n",
       "62        EH10 5DT  EH10 5DT  S22000059  S99999999   Edinburgh   \n",
       "268        EH9 8AA   EH9 8AA  S22000059  S99999999   Edinburgh   \n",
       "12         BN3 1AS   BN3 1AS  E30000179  E12000008    Brighton   \n",
       "258        BN3 1AS   BN3 1AS  E30000179  E12000008    Brighton   \n",
       "\n",
       "                      reg_nat            domain  \n",
       "7    Yorkshire and The Humber        amrc.co.uk  \n",
       "99   Yorkshire and The Humber        amrc.co.uk  \n",
       "173                North West         bbc.co.uk  \n",
       "270                     Wales         bbc.co.uk  \n",
       "39                 South East            me.com  \n",
       "274                North West            me.com  \n",
       "62                   Scotland      napier.ac.uk  \n",
       "268                  Scotland      napier.ac.uk  \n",
       "12                 South East  theoldmarket.com  \n",
       "258                South East  theoldmarket.com  \n",
       "\n",
       "[10 rows x 148 columns]"
      ]
     },
     "execution_count": 47,
     "metadata": {},
     "output_type": "execute_result"
    }
   ],
   "source": [
    "#What are the responses?\n",
    "mtm_geo.loc[[x in repeated_domains for x in mtm_geo.domain],:].sort_values('domain')"
   ]
  },
  {
   "cell_type": "code",
   "execution_count": 48,
   "metadata": {
    "collapsed": false
   },
   "outputs": [
    {
     "data": {
      "text/plain": [
       "37"
      ]
     },
     "execution_count": 48,
     "metadata": {},
     "output_type": "execute_result"
    }
   ],
   "source": [
    "#Not that many \n",
    "\n",
    "mtm_geo = mtm_geo.drop_duplicates('q2_4_email')\n",
    "mtm_geo.reset_index(drop=True,inplace=True)\n",
    "\n",
    "np.sum(mtm_geo['ttwa_name'].isna())"
   ]
  },
  {
   "cell_type": "markdown",
   "metadata": {},
   "source": [
    "### GlassAI data for some final checking"
   ]
  },
  {
   "cell_type": "code",
   "execution_count": 49,
   "metadata": {
    "collapsed": true
   },
   "outputs": [],
   "source": [
    "glass_ai = pd.read_excel(ext_data+'/17_11_2017_company_list_glassai.xlsx')\n",
    "glass_ai.head()\n",
    "\n",
    "glass_ai.shape\n",
    "\n",
    "#Postcodes\n",
    "glass_postcodes = pd.read_table(ext_data+'/immerse_v4_postcodes.txt',delimiter='\\t',header=None)\n",
    "glass_postcodes.columns=['id','postcode']\n",
    "\n",
    "glass_ai_geo = pd.merge(glass_ai,glass_postcodes,left_on='Organization ID',right_on='id')\n",
    "glass_ai_geo['postcode_top'] = [x.split(\",\")[0].upper() if type(x)==str else np.nan for x in glass_ai_geo.postcode]\n",
    "\n",
    "glass_ai_geo = pd.merge(glass_ai_geo,nspl[['pcds','ttwa','lat','long','gor']],left_on='postcode_top',right_on='pcds',how='left')\n",
    "glass_ai_geo['ttwa_name'] = [ttwa_codes_names_lookup[x] if x in ttwa_codes_names_lookup.keys() else np.nan for x in glass_ai_geo['ttwa']]\n",
    "glass_ai_geo['reg_name'] = [gor_names_lookup[x] if x in gor_names_lookup.keys() else np.nan for x in glass_ai_geo['gor']]"
   ]
  },
  {
   "cell_type": "code",
   "execution_count": 50,
   "metadata": {
    "collapsed": false
   },
   "outputs": [],
   "source": [
    "#This is the domain of the GlassAI companies\n",
    "glass_ai_geo['domain'] = [re.sub('www.','',x) for x in glass_ai['Website']]"
   ]
  },
  {
   "cell_type": "markdown",
   "metadata": {},
   "source": [
    "### Fill missing MTM geo data with the ttwa / region data we found in GlassAI"
   ]
  },
  {
   "cell_type": "code",
   "execution_count": 51,
   "metadata": {
    "collapsed": false
   },
   "outputs": [],
   "source": [
    "#What's the overlap?\n",
    "len(set(mtm_no_ttwa_domain) & set(glass_ai_geo.domain))\n",
    "#An extra 18 companies\n",
    "\n",
    "\n",
    "#We need to find a way of assigning them the GlassAI regions and names\n",
    "glass_ai_geo_data = glass_ai_geo.loc[[x in set(mtm_no_ttwa_domain) & set(glass_ai_geo.domain) for x in glass_ai_geo.domain],\n",
    "                 ['domain','gor','ttwa_name','reg_name','lat','long']]\n",
    "\n",
    "#This dict takes a glass ai domain and returns its geo stuff. \n",
    "glass_ai_geo_dict = glass_ai_geo_data.to_dict(orient='records')\n",
    "glass_ai_geo_dict = {x['domain']:x for x in glass_ai_geo_dict}"
   ]
  },
  {
   "cell_type": "code",
   "execution_count": 52,
   "metadata": {
    "collapsed": false
   },
   "outputs": [],
   "source": [
    "#We loop over variables. If their domains are missing in MTM but have data in GlassAI we assign them the\n",
    "#GlassAI geo info\n",
    "\n",
    "for x in np.arange(len(mtm_geo)):\n",
    "    \n",
    "    dom = str(mtm_geo.loc[x,'domain'])\n",
    "    \n",
    "    #If the domain is in the overlap between glass ai and mtm\n",
    "    \n",
    "    if dom in set(mtm_no_ttwa_domain) & set(glass_ai_geo.domain):\n",
    "        mtm_geo.loc[x,'ttwa_name']=glass_ai_geo_dict[dom]['ttwa_name']\n",
    "        mtm_geo.loc[x,'reg_nat']=glass_ai_geo_dict[dom]['reg_name']\n"
   ]
  },
  {
   "cell_type": "code",
   "execution_count": 56,
   "metadata": {
    "collapsed": false
   },
   "outputs": [
    {
     "data": {
      "text/plain": [
       "31"
      ]
     },
     "execution_count": 56,
     "metadata": {},
     "output_type": "execute_result"
    }
   ],
   "source": [
    "np.sum(mtm_geo['ttwa_name'].isna())"
   ]
  },
  {
   "cell_type": "code",
   "execution_count": 55,
   "metadata": {
    "collapsed": false
   },
   "outputs": [],
   "source": [
    "#Pickle all the processed data\n",
    "\n",
    "with open(proc_data+'/{date}_immersive_dataset.p'.format(date=today_str),'wb') as outfile:\n",
    "    pickle.dump([glass_ai_geo,mtm_geo],outfile)"
   ]
  },
  {
   "cell_type": "code",
   "execution_count": 23,
   "metadata": {
    "collapsed": false
   },
   "outputs": [
    {
     "ename": "NameError",
     "evalue": "name 'check' is not defined",
     "output_type": "error",
     "traceback": [
      "\u001b[0;31m---------------------------------------------------------------------------\u001b[0m",
      "\u001b[0;31mNameError\u001b[0m                                 Traceback (most recent call last)",
      "\u001b[0;32m<ipython-input-23-a6816c9ba6bd>\u001b[0m in \u001b[0;36m<module>\u001b[0;34m()\u001b[0m\n\u001b[0;32m----> 1\u001b[0;31m check.loc[:,['Q10_' in x for x in check.columns]].dropna(\n\u001b[0m\u001b[1;32m      2\u001b[0m ).applymap(lambda x: 1 if 'Very' in x else 0).sum().sort_values(ascending=False)\n",
      "\u001b[0;31mNameError\u001b[0m: name 'check' is not defined"
     ]
    }
   ],
   "source": [
    "check.loc[:,['Q10_' in x for x in check.columns]].dropna(\n",
    ").applymap(lambda x: 1 if 'Very' in x else 0).sum().sort_values(ascending=False)"
   ]
  },
  {
   "cell_type": "code",
   "execution_count": null,
   "metadata": {
    "collapsed": false
   },
   "outputs": [],
   "source": [
    "check = pd.read_csv(ext_data+'/14_2_2018_immersive_survey_v2.csv')"
   ]
  },
  {
   "cell_type": "code",
   "execution_count": 57,
   "metadata": {
    "collapsed": false
   },
   "outputs": [
    {
     "data": {
      "text/plain": [
       "'4_3_2018'"
      ]
     },
     "execution_count": 57,
     "metadata": {},
     "output_type": "execute_result"
    }
   ],
   "source": [
    "today_str"
   ]
  },
  {
   "cell_type": "code",
   "execution_count": null,
   "metadata": {
    "collapsed": true
   },
   "outputs": [],
   "source": []
  }
 ],
 "metadata": {
  "kernelspec": {
   "display_name": "Python 3",
   "language": "python",
   "name": "python3"
  },
  "language_info": {
   "codemirror_mode": {
    "name": "ipython",
    "version": 3
   },
   "file_extension": ".py",
   "mimetype": "text/x-python",
   "name": "python",
   "nbconvert_exporter": "python",
   "pygments_lexer": "ipython3",
   "version": "3.5.2"
  }
 },
 "nbformat": 4,
 "nbformat_minor": 2
}
